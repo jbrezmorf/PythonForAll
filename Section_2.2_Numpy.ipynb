{
 "cells": [
  {
   "cell_type": "markdown",
   "metadata": {},
   "source": [
    "# 2.2.0 Numpy - přehled\n",
    "\n",
    "- práce s vícerozměrnými poli (tenzory)\n",
    "- efektivní operace implementované v C\n",
    "- interface k operacím lineární algebry\n",
    "- další funkce ...\n",
    "\n",
    "[referenční dokumentace](https://docs.scipy.org/doc/numpy-1.13.0/reference/index.html)\n",
    "\n",
    "Další zdroje:\n",
    "\n",
    "- [NumPy Cheat Sheet](https://s3.amazonaws.com/assets.datacamp.com/blog_assets/Numpy_Python_Cheat_Sheet.pdf)\n",
    "\n",
    "- [Stanford lecture](https://web.stanford.edu/~schmit/cme193/lec/lec5.pdf)\n",
    "\n",
    "- [100 cvičení z Numpy](http://yvesguidet.no-ip.biz/complementsMureaux/100_numpy_exercises.pdf)\n",
    "\n",
    "- [Python and SciPy lecture notes](https://hal.inria.fr/hal-01206546/file/ScipyLectures-simple.pdf)\n",
    "\n",
    "Dále předpokládáme import knihovny ve tvaru:\n"
   ]
  },
  {
   "cell_type": "code",
   "execution_count": 4,
   "metadata": {},
   "outputs": [],
   "source": [
    "import numpy as np\n",
    "\n",
    "# integrovat vystup z matplotlib - statické grafy \n",
    "%matplotlib inline"
   ]
  },
  {
   "cell_type": "markdown",
   "metadata": {},
   "source": [
    "# 2.2.1 Arrays\n",
    "\n",
    "- reprezentace N rozměrného tenzoru\n",
    "- mnohé operace (řezání, transpozice) provádí jen změnu přístupu ke stále stejným datů"
   ]
  },
  {
   "cell_type": "code",
   "execution_count": 4,
   "metadata": {
    "scrolled": true
   },
   "outputs": [
    {
     "name": "stdout",
     "output_type": "stream",
     "text": [
      "List matrix: [[0, 1, 2], [1, 2, 3]]\n",
      "Numpy matrix:\n",
      " [[0 1 2]\n",
      " [1 2 3]] \n",
      "python type: <class 'numpy.ndarray'>\n"
     ]
    }
   ],
   "source": [
    "# Konverze ze standarnich Pythnonich typu.\n",
    "list_matrix = [ list(range(3)), list(range(1,4))]\n",
    "print(\"List matrix:\", list_matrix)\n",
    "a = np.array(list_matrix)\n",
    "print(\"Numpy matrix:\\n\", a, '\\npython type:', type(a))\n",
    "\n",
    "# TODO: zkuste smazat list() na prvnim radku, bude to fungovat. range(..) produkuje sekvenci."
   ]
  },
  {
   "cell_type": "markdown",
   "metadata": {},
   "source": [
    "### Array - atributy\n",
    "\n",
    "    a.ndim,  a.shape,  a.size,  a.dtype\n",
    "   "
   ]
  },
  {
   "cell_type": "code",
   "execution_count": 5,
   "metadata": {},
   "outputs": [
    {
     "name": "stdout",
     "output_type": "stream",
     "text": [
      "ndim 2\n",
      "shape (2, 3)\n",
      "size 6\n",
      "dtype int64\n"
     ]
    }
   ],
   "source": [
    "# Počet dimenzí/os/axis pole\n",
    "print(\"ndim\", a.ndim)\n",
    "\n",
    "# Rozměry pole v jednotlivých osách.\n",
    "print(\"shape\", a.shape)\n",
    "\n",
    "# Počet prvků pole.\n",
    "print(\"size\", a.size)\n",
    "\n",
    "# Type prvků pole (všechny prvky mají stejný typ).\n",
    "print(\"dtype\", a.dtype)\n"
   ]
  },
  {
   "cell_type": "markdown",
   "metadata": {},
   "source": [
    "Matice `a` má prvky typu `int64`. Numpy automaticky zvolí `int` pokud jsou všechny zadané prvky `int`. Explicitně je možno požadovat jiný typ pomocí parametru `dtype`:"
   ]
  },
  {
   "cell_type": "code",
   "execution_count": 6,
   "metadata": {},
   "outputs": [
    {
     "name": "stdout",
     "output_type": "stream",
     "text": [
      "float type:\n",
      " [[0. 1. 2.]\n",
      " [1. 2. 3.]]\n",
      "complex type:\n",
      " [[0.+0.j 1.+0.j 2.+0.j]\n",
      " [1.+0.j 2.+0.j 3.+0.j]]\n",
      "bool type:\n",
      " [[False  True  True]\n",
      " [ True  True  True]]\n",
      "\n",
      "int8 type:\n",
      " [[0 1 2]\n",
      " [1 2 3]]\n",
      "element type:  int8\n",
      "a int 64 memory size: 160\n",
      "a int 8 memory size: 118\n"
     ]
    }
   ],
   "source": [
    "from sys import getsizeof\n",
    "\n",
    "print(\"float type:\\n\", np.array(list_matrix, dtype=float))\n",
    "print(\"complex type:\\n\", np.array(list_matrix, dtype=complex))\n",
    "print(\"bool type:\\n\", np.array(list_matrix, dtype=bool))\n",
    "\n",
    "# Type variants with different memory footprint.\n",
    "a8 = np.array(list_matrix, dtype=\"int8\")\n",
    "print(\"\\nint8 type:\\n\", a8)\n",
    "print(\"element type: \", a8.dtype)\n",
    "\n",
    "print(\"a int 64 memory size:\", getsizeof(a),)\n",
    "print(\"a int 8 memory size:\", getsizeof(a8))\n"
   ]
  },
  {
   "cell_type": "markdown",
   "metadata": {},
   "source": [
    "### Inicializace array"
   ]
  },
  {
   "cell_type": "code",
   "execution_count": 9,
   "metadata": {
    "scrolled": true
   },
   "outputs": [
    {
     "name": "stdout",
     "output_type": "stream",
     "text": [
      "arange:  [1.1 3.2 5.3 7.4 9.5]\n",
      "linspace:  [ 1.1         4.06666667  7.03333333 10.        ]\n",
      "zeros :\n",
      " [[0. 0. 0. 0.]\n",
      " [0. 0. 0. 0.]]\n",
      "ones :\n",
      " [[1. 1. 1. 1.]\n",
      " [1. 1. 1. 1.]]\n",
      "full :\n",
      " [[3.14 3.14 3.14 3.14]\n",
      " [3.14 3.14 3.14 3.14]]\n",
      "eye :\n",
      " [[1. 0. 0. 0.]\n",
      " [0. 1. 0. 0.]\n",
      " [0. 0. 1. 0.]\n",
      " [0. 0. 0. 1.]]\n"
     ]
    }
   ],
   "source": [
    "# sekvence: počátek, konec, krok\n",
    "print(\"arange: \", np.arange(1.1, 10, 2.1))\n",
    "\n",
    "# sekvence: počátek, konec, počet bodů\n",
    "print(\"linspace: \", np.linspace(1.1, 10, 4))\n",
    "\n",
    "# zeros, ones, eye, full\n",
    "print(\"zeros :\\n\", np.zeros((2,4)))\n",
    "print(\"ones :\\n\", np.ones((2,4)))\n",
    "print(\"full :\\n\", np.full((2,4), 3.14))\n",
    "\n",
    "# jednotkova matice\n",
    "print(\"eye :\\n\", np.eye(4))"
   ]
  },
  {
   "cell_type": "markdown",
   "metadata": {},
   "source": [
    "Další funkce pro tvorbu polí viz:\n",
    "\n",
    "[Numpy doc: array creation routines](https://docs.scipy.org/doc/numpy/reference/routines.array-creation.html)\n",
    "\n",
    "Pro čtení polí (matic) z textových tabulek lze použít funkci \n",
    "- [`np.loadtxt`](https://docs.scipy.org/doc/numpy/reference/generated/numpy.loadtxt.html#numpy.loadtxt).\n",
    "  EXTRÉMĚ pomalá\n",
    "- [`pandas.read_csv`](https://pandas.pydata.org/pandas-docs/stable/reference/api/pandas.read_csv.html) nejrychlejší  čtení CSV souborů\n",
    "- [`pandas.read_excel`](https://pandas.pydata.org/pandas-docs/stable/reference/api/pandas.read_excel.html#pandas.read_excel)\n",
    "- [`pandas.ExcelWriter`](https://pandas.pydata.org/pandas-docs/stable/reference/api/pandas.ExcelWriter.html#pandas.ExcelWriter)\n",
    "- [Pandas 10 min. tutorial](https://pandas.pydata.org/pandas-docs/stable/getting_started/10min.html#min)\n"
   ]
  },
  {
   "cell_type": "markdown",
   "metadata": {},
   "source": [
    "Vytvoříme si testovací Pandas tabulku = data frame."
   ]
  },
  {
   "cell_type": "code",
   "execution_count": 54,
   "metadata": {},
   "outputs": [
    {
     "data": {
      "text/html": [
       "<div>\n",
       "<style scoped>\n",
       "    .dataframe tbody tr th:only-of-type {\n",
       "        vertical-align: middle;\n",
       "    }\n",
       "\n",
       "    .dataframe tbody tr th {\n",
       "        vertical-align: top;\n",
       "    }\n",
       "\n",
       "    .dataframe thead th {\n",
       "        text-align: right;\n",
       "    }\n",
       "</style>\n",
       "<table border=\"1\" class=\"dataframe\">\n",
       "  <thead>\n",
       "    <tr style=\"text-align: right;\">\n",
       "      <th></th>\n",
       "      <th>A</th>\n",
       "      <th>B</th>\n",
       "      <th>C</th>\n",
       "      <th>D</th>\n",
       "    </tr>\n",
       "  </thead>\n",
       "  <tbody>\n",
       "    <tr>\n",
       "      <th>2013-01-01</th>\n",
       "      <td>0.228302</td>\n",
       "      <td>0.547975</td>\n",
       "      <td>0.729704</td>\n",
       "      <td>0.089680</td>\n",
       "    </tr>\n",
       "    <tr>\n",
       "      <th>2013-01-02</th>\n",
       "      <td>-2.235791</td>\n",
       "      <td>-0.746434</td>\n",
       "      <td>-0.233101</td>\n",
       "      <td>0.033105</td>\n",
       "    </tr>\n",
       "    <tr>\n",
       "      <th>2013-01-03</th>\n",
       "      <td>-0.695786</td>\n",
       "      <td>-1.218976</td>\n",
       "      <td>0.867120</td>\n",
       "      <td>-1.194115</td>\n",
       "    </tr>\n",
       "    <tr>\n",
       "      <th>2013-01-04</th>\n",
       "      <td>-0.666596</td>\n",
       "      <td>0.381631</td>\n",
       "      <td>-0.065392</td>\n",
       "      <td>-1.741360</td>\n",
       "    </tr>\n",
       "    <tr>\n",
       "      <th>2013-01-05</th>\n",
       "      <td>0.230484</td>\n",
       "      <td>-0.779181</td>\n",
       "      <td>1.712523</td>\n",
       "      <td>1.173803</td>\n",
       "    </tr>\n",
       "  </tbody>\n",
       "</table>\n",
       "</div>"
      ],
      "text/plain": [
       "                   A         B         C         D\n",
       "2013-01-01  0.228302  0.547975  0.729704  0.089680\n",
       "2013-01-02 -2.235791 -0.746434 -0.233101  0.033105\n",
       "2013-01-03 -0.695786 -1.218976  0.867120 -1.194115\n",
       "2013-01-04 -0.666596  0.381631 -0.065392 -1.741360\n",
       "2013-01-05  0.230484 -0.779181  1.712523  1.173803"
      ]
     },
     "execution_count": 54,
     "metadata": {},
     "output_type": "execute_result"
    }
   ],
   "source": [
    "import pandas as pd\n",
    "\n",
    "dates = pd.date_range('20130101', periods=6)\n",
    "df = pd.DataFrame(np.random.randn(6, 4), index=dates, columns=list('ABCD'))\n",
    "df.head()"
   ]
  },
  {
   "cell_type": "markdown",
   "metadata": {},
   "source": [
    "Vyzkoušíme zápis do Excel souboru a opětovné načtení.\n",
    "`ExcelWriter` není automaticky součástí Pandas a instaluje se jako samostatný balíček:\n",
    "    \n",
    "    pip install xlsxWriter\n",
    "    \n",
    "Anaconda má tento balíček již nainstalovaný automaticky."
   ]
  },
  {
   "cell_type": "code",
   "execution_count": 12,
   "metadata": {},
   "outputs": [
    {
     "data": {
      "text/html": [
       "<div>\n",
       "<style scoped>\n",
       "    .dataframe tbody tr th:only-of-type {\n",
       "        vertical-align: middle;\n",
       "    }\n",
       "\n",
       "    .dataframe tbody tr th {\n",
       "        vertical-align: top;\n",
       "    }\n",
       "\n",
       "    .dataframe thead th {\n",
       "        text-align: right;\n",
       "    }\n",
       "</style>\n",
       "<table border=\"1\" class=\"dataframe\">\n",
       "  <thead>\n",
       "    <tr style=\"text-align: right;\">\n",
       "      <th></th>\n",
       "      <th>A</th>\n",
       "      <th>B</th>\n",
       "      <th>C</th>\n",
       "      <th>D</th>\n",
       "    </tr>\n",
       "  </thead>\n",
       "  <tbody>\n",
       "    <tr>\n",
       "      <th>2013-01-01</th>\n",
       "      <td>-0.775988</td>\n",
       "      <td>-0.462084</td>\n",
       "      <td>-0.817531</td>\n",
       "      <td>2.185610</td>\n",
       "    </tr>\n",
       "    <tr>\n",
       "      <th>2013-01-02</th>\n",
       "      <td>-1.201889</td>\n",
       "      <td>-2.549149</td>\n",
       "      <td>-0.223818</td>\n",
       "      <td>-0.413386</td>\n",
       "    </tr>\n",
       "    <tr>\n",
       "      <th>2013-01-03</th>\n",
       "      <td>0.446307</td>\n",
       "      <td>-0.533341</td>\n",
       "      <td>0.420836</td>\n",
       "      <td>-0.221647</td>\n",
       "    </tr>\n",
       "    <tr>\n",
       "      <th>2013-01-04</th>\n",
       "      <td>1.616383</td>\n",
       "      <td>0.209035</td>\n",
       "      <td>0.603117</td>\n",
       "      <td>0.612562</td>\n",
       "    </tr>\n",
       "    <tr>\n",
       "      <th>2013-01-05</th>\n",
       "      <td>0.176481</td>\n",
       "      <td>-1.509787</td>\n",
       "      <td>2.707025</td>\n",
       "      <td>1.365979</td>\n",
       "    </tr>\n",
       "  </tbody>\n",
       "</table>\n",
       "</div>"
      ],
      "text/plain": [
       "                   A         B         C         D\n",
       "2013-01-01 -0.775988 -0.462084 -0.817531  2.185610\n",
       "2013-01-02 -1.201889 -2.549149 -0.223818 -0.413386\n",
       "2013-01-03  0.446307 -0.533341  0.420836 -0.221647\n",
       "2013-01-04  1.616383  0.209035  0.603117  0.612562\n",
       "2013-01-05  0.176481 -1.509787  2.707025  1.365979"
      ]
     },
     "execution_count": 12,
     "metadata": {},
     "output_type": "execute_result"
    }
   ],
   "source": [
    "with pd.ExcelWriter('ABCD_data.xlsx') as writer:\n",
    "    df.to_excel(writer)\n",
    "    \n",
    "df2 = pd.read_excel('ABCD_data.xlsx')\n",
    "df2.head()"
   ]
  },
  {
   "cell_type": "markdown",
   "metadata": {},
   "source": [
    "# 2.2.2 Operace s array\n",
    "\n",
    "Binární operátory je možné provádět pro dvě pole se stejným `shape`."
   ]
  },
  {
   "cell_type": "code",
   "execution_count": 13,
   "metadata": {},
   "outputs": [
    {
     "name": "stdout",
     "output_type": "stream",
     "text": [
      "[[0 1 2]\n",
      " [1 2 3]]\n",
      "[[1. 1. 1.]\n",
      " [1. 1. 1.]]\n"
     ]
    }
   ],
   "source": [
    "a = np.array([[0,1,2], [1,2,3]])\n",
    "b = np.ones((2,3))\n",
    "print(a)\n",
    "print(b)"
   ]
  },
  {
   "cell_type": "code",
   "execution_count": 8,
   "metadata": {},
   "outputs": [
    {
     "data": {
      "text/plain": [
       "array([[1., 2., 3.],\n",
       "       [2., 3., 4.]])"
      ]
     },
     "execution_count": 8,
     "metadata": {},
     "output_type": "execute_result"
    }
   ],
   "source": [
    "a + b"
   ]
  },
  {
   "cell_type": "code",
   "execution_count": 9,
   "metadata": {},
   "outputs": [
    {
     "data": {
      "text/plain": [
       "array([[0., 1., 2.],\n",
       "       [1., 2., 3.]])"
      ]
     },
     "execution_count": 9,
     "metadata": {},
     "output_type": "execute_result"
    }
   ],
   "source": [
    "a * b"
   ]
  },
  {
   "cell_type": "code",
   "execution_count": 10,
   "metadata": {},
   "outputs": [
    {
     "data": {
      "text/plain": [
       "array([[False, False,  True],\n",
       "       [False,  True,  True]])"
      ]
     },
     "execution_count": 10,
     "metadata": {},
     "output_type": "execute_result"
    }
   ],
   "source": [
    "a > b\n"
   ]
  },
  {
   "cell_type": "code",
   "execution_count": 14,
   "metadata": {},
   "outputs": [
    {
     "data": {
      "text/plain": [
       "array([[ 0.0000000e+00,  1.0000000e+00,  1.2246468e-16],\n",
       "       [ 1.0000000e+00,  1.2246468e-16, -1.0000000e+00]])"
      ]
     },
     "execution_count": 14,
     "metadata": {},
     "output_type": "execute_result"
    }
   ],
   "source": [
    "# I funkce lze aplikovat po jednotlivých elementech:\n",
    "np.sin(np.pi * a / 2)"
   ]
  },
  {
   "cell_type": "code",
   "execution_count": 55,
   "metadata": {},
   "outputs": [
    {
     "name": "stdout",
     "output_type": "stream",
     "text": [
      "A =  [[0 1]\n",
      " [2 3]] \n",
      "x =  [ 10 100]\n",
      "A @ x =  [100 320]\n",
      "np.dot =  [100 320]\n",
      "[[0 2]\n",
      " [6 8]]\n"
     ]
    }
   ],
   "source": [
    "# Maticove nasobeni @\n",
    "A = np.array([[0, 1], [2, 3]])\n",
    "x = np.array([10, 100])\n",
    "print(\"A = \", A, \"\\nx = \", x)\n",
    "print(\"A @ x = \", A @ x)\n",
    "print(\"np.dot = \", np.dot(A, x))\n",
    "B = np.array([[3, 1], [0, 2]])\n",
    "print(A @ B) \n"
   ]
  },
  {
   "cell_type": "markdown",
   "metadata": {},
   "source": [
    "### Logaritmická spirála\n",
    "\n",
    "Příklad použití transformačních matic pro rotaci `R` a škálování `S`."
   ]
  },
  {
   "cell_type": "code",
   "execution_count": 16,
   "metadata": {},
   "outputs": [
    {
     "data": {
      "text/plain": [
       "(-1, 1)"
      ]
     },
     "execution_count": 16,
     "metadata": {},
     "output_type": "execute_result"
    },
    {
     "data": {
      "image/png": "[encoded data removed]",
      "text/plain": [
       "<Figure size 350x350 with 1 Axes>"
      ]
     },
     "metadata": {
      "needs_background": "light"
     },
     "output_type": "display_data"
    }
   ],
   "source": [
    "N = 200\n",
    "theta = 2 * np.pi * 0.1\n",
    "\n",
    "c, s = np.cos(theta), np.sin(theta)\n",
    "R = np.array(((c,-s), (s, c)))\n",
    "S = 0.9 * np.eye(2)\n",
    "points = np.zeros((N, 2))\n",
    "x = np.array([1, 0])\n",
    "for i in range(N):\n",
    "    x = points[i] = S @ R @ x\n",
    "import matplotlib.pyplot as plt\n",
    "fig,ax = plt.subplots(figsize=(5,5), dpi=70)\n",
    "ax.plot(*points.T)\n",
    "ax.set_xlim(-1, 1)\n",
    "ax.set_ylim(-1, 1)"
   ]
  },
  {
   "cell_type": "markdown",
   "metadata": {},
   "source": [
    "### Array indexing and slicing\n",
    "Podpora více indexů najednou v hranatých závorkách pro indexování vícerozměrných polí.\n",
    "\n",
    "Řez ve formě `[start : end : step]` vybere v jedné dimenzi pouze indexy začínající `start`, s krokem `step` a menší než `end`."
   ]
  },
  {
   "cell_type": "code",
   "execution_count": 18,
   "metadata": {},
   "outputs": [
    {
     "name": "stdout",
     "output_type": "stream",
     "text": [
      "[[0 1 2]\n",
      " [1 2 3]]\n",
      "[[ 0 10  2]\n",
      " [ 1  2  3]]\n"
     ]
    }
   ],
   "source": [
    "# Více indexů povoleno\n",
    "print(a)\n",
    "a[0,1] = 10\n",
    "print(a)"
   ]
  },
  {
   "cell_type": "code",
   "execution_count": 19,
   "metadata": {},
   "outputs": [
    {
     "data": {
      "text/plain": [
       "array([0, 1])"
      ]
     },
     "execution_count": 19,
     "metadata": {},
     "output_type": "execute_result"
    }
   ],
   "source": [
    "# Pomocí řezů lze vybírat pod výběry.\n",
    "# první sloupec\n",
    "a[:, 0]"
   ]
  },
  {
   "cell_type": "code",
   "execution_count": 23,
   "metadata": {},
   "outputs": [
    {
     "data": {
      "text/plain": [
       "array([1, 2])"
      ]
     },
     "execution_count": 23,
     "metadata": {},
     "output_type": "execute_result"
    }
   ],
   "source": [
    "# Druhý řádek, prvky 0..2\n",
    "a[1, 0:2]"
   ]
  },
  {
   "cell_type": "code",
   "execution_count": 24,
   "metadata": {},
   "outputs": [
    {
     "data": {
      "text/plain": [
       "array([1, 2])"
      ]
     },
     "execution_count": 24,
     "metadata": {},
     "output_type": "execute_result"
    }
   ],
   "source": [
    "# Poslední dva prvky druhého řádku\n",
    "a[1, -3:-1]"
   ]
  },
  {
   "cell_type": "code",
   "execution_count": 25,
   "metadata": {},
   "outputs": [
    {
     "data": {
      "text/plain": [
       "array([ 2, 10,  0])"
      ]
     },
     "execution_count": 25,
     "metadata": {},
     "output_type": "execute_result"
    }
   ],
   "source": [
    "# První řádek pozpátku.\n",
    "a[0,::-1]"
   ]
  },
  {
   "cell_type": "code",
   "execution_count": 26,
   "metadata": {},
   "outputs": [
    {
     "data": {
      "text/plain": [
       "array([ 0, 10,  2])"
      ]
     },
     "execution_count": 26,
     "metadata": {},
     "output_type": "execute_result"
    }
   ],
   "source": [
    "a[0, ...]"
   ]
  },
  {
   "cell_type": "code",
   "execution_count": 29,
   "metadata": {},
   "outputs": [
    {
     "name": "stdout",
     "output_type": "stream",
     "text": [
      "[ 0 10  2] dim 1\n",
      "[[ 0 10  2]]\n",
      "[[ 0]\n",
      " [10]\n",
      " [ 2]]\n"
     ]
    }
   ],
   "source": [
    "# Konverze vektoru na matici, přidání axis\n",
    "b=a[0]\n",
    "print(b, 'dim', b.ndim)\n",
    "\n",
    "print(b[None, :])\n",
    "print(b[:, None])"
   ]
  },
  {
   "cell_type": "markdown",
   "metadata": {},
   "source": [
    "### Broadcasting\n",
    "Pokud operandy nemají stejný tvar, je možno operaci provést pokud lze jeden operand rozšířit na shape druhého operandu:\n",
    "1. Operand s nižším `ndim` se zleva doplní dimenzemi s rozměrem 1 do počtu dimenzí druhého operandu.\n",
    "2. Pokud v některé dimenzi je rozměr jednoho operandu N a rozměr druhého 1. Druhý operand se v této ose použije N krát.\n",
    "\n",
    "Obecná pravidla konverze polí menší dimenze na pole vyšší dimenze při (binárních) operacích:\n",
    "\n",
    "[Numpy broadcasting](https://docs.scipy.org/doc/numpy-1.13.0/reference/ufuncs.html#broadcasting)"
   ]
  },
  {
   "cell_type": "code",
   "execution_count": 30,
   "metadata": {},
   "outputs": [
    {
     "data": {
      "text/plain": [
       "array([[ 0, 20,  4],\n",
       "       [ 2,  4,  6]])"
      ]
     },
     "execution_count": 30,
     "metadata": {},
     "output_type": "execute_result"
    }
   ],
   "source": [
    "# Nejjednodušší příklad, násobení skalárem\n",
    "b = 2 * a\n",
    "b"
   ]
  },
  {
   "cell_type": "code",
   "execution_count": 31,
   "metadata": {},
   "outputs": [
    {
     "data": {
      "text/plain": [
       "array([[ 0., 20.,  4.],\n",
       "       [ 2.,  4.,  6.]])"
      ]
     },
     "execution_count": 31,
     "metadata": {},
     "output_type": "execute_result"
    }
   ],
   "source": [
    "# ... je ekvivalentní násobení maticí dvojek.\n",
    "two = np.full((2,3), 2.0)\n",
    "two * a"
   ]
  },
  {
   "cell_type": "code",
   "execution_count": 37,
   "metadata": {},
   "outputs": [
    {
     "name": "stdout",
     "output_type": "stream",
     "text": [
      "a matrix:\n",
      " [[0 1]\n",
      " [2 3]]\n",
      "shape: (2,)\n",
      "[[3 4]] shape: (1, 2)\n",
      "[[3 4]\n",
      " [3 4]]\n",
      "b vector:\n",
      " [3 4]\n"
     ]
    },
    {
     "data": {
      "text/plain": [
       "array([[3, 5],\n",
       "       [5, 7]])"
      ]
     },
     "execution_count": 37,
     "metadata": {},
     "output_type": "execute_result"
    }
   ],
   "source": [
    "# Broadcasting pro vektor a matici.\n",
    "a = np.arange(4).reshape((2,2))\n",
    "print(\"a matrix:\\n\", a)\n",
    "b = np.arange(3,5)\n",
    "print('shape:', b.shape)\n",
    "bb=b[None, :]\n",
    "print(bb, 'shape:', bb.shape)\n",
    "print(np.concatenate((bb,bb)))\n",
    "print(\"b vector:\\n\", b)\n",
    "b+a"
   ]
  },
  {
   "cell_type": "markdown",
   "metadata": {},
   "source": [
    "Explicitní broadcasting pomocí `None` indexu. Mnohem lepší srozumitelnost, vnější součin:"
   ]
  },
  {
   "cell_type": "code",
   "execution_count": 38,
   "metadata": {},
   "outputs": [
    {
     "data": {
      "text/plain": [
       "array([[0, 0, 0, 0],\n",
       "       [0, 1, 2, 3],\n",
       "       [0, 2, 4, 6],\n",
       "       [0, 3, 6, 9]])"
      ]
     },
     "execution_count": 38,
     "metadata": {},
     "output_type": "execute_result"
    }
   ],
   "source": [
    "a = np.arange(4)\n",
    "# outer product\n",
    "a[None, :] * a[:, None] "
   ]
  },
  {
   "cell_type": "markdown",
   "metadata": {},
   "source": [
    "### Array reshaping"
   ]
  },
  {
   "cell_type": "code",
   "execution_count": 39,
   "metadata": {},
   "outputs": [
    {
     "name": "stdout",
     "output_type": "stream",
     "text": [
      "[0 1 2 3]\n"
     ]
    },
    {
     "data": {
      "text/plain": [
       "array([10,  1,  2,  3])"
      ]
     },
     "execution_count": 39,
     "metadata": {},
     "output_type": "execute_result"
    }
   ],
   "source": [
    "# Rozbalení dat do prostého pole, může být vnitřně realizováno jen pomocí metadat.\n",
    "# ... vrátí se \"view\".\n",
    "b = a.ravel()\n",
    "print(b)\n",
    "b[0] =10\n",
    "a"
   ]
  },
  {
   "cell_type": "code",
   "execution_count": 41,
   "metadata": {},
   "outputs": [
    {
     "name": "stdout",
     "output_type": "stream",
     "text": [
      "[10  1  2  3]\n",
      "a [10  1  2  3]\n",
      "b [100   1   2   3]\n"
     ]
    }
   ],
   "source": [
    "# Stejné dělá metoda flatten, ale nyní vrací kopii skutčeně rozbalených dat. \n",
    "b = a.flatten()\n",
    "print(b)\n",
    "b[0] = 100\n",
    "print('a', a)\n",
    "print('b', b)"
   ]
  },
  {
   "cell_type": "code",
   "execution_count": 43,
   "metadata": {},
   "outputs": [
    {
     "data": {
      "text/plain": [
       "array([[100,   1],\n",
       "       [  2,   3]])"
      ]
     },
     "execution_count": 43,
     "metadata": {},
     "output_type": "execute_result"
    }
   ],
   "source": [
    "# Změna tvaru pomocí přiřazení do attributu shape:\n",
    "b.shape = (2, 2)\n",
    "b"
   ]
  },
  {
   "cell_type": "code",
   "execution_count": null,
   "metadata": {},
   "outputs": [],
   "source": [
    "# transpozice\n",
    "a.T\n",
    "a.transpose()"
   ]
  },
  {
   "cell_type": "code",
   "execution_count": 44,
   "metadata": {},
   "outputs": [
    {
     "name": "stdout",
     "output_type": "stream",
     "text": [
      "\n",
      "xyz: \n",
      " [[[111.   3.]\n",
      "  [  2.   0.]]\n",
      "\n",
      " [[  1.   0.]\n",
      "  [  0.   0.]]]\n",
      "\n",
      "transpose: \n",
      " [[[111.   3.]\n",
      "  [  1.   0.]]\n",
      "\n",
      " [[  2.   0.]\n",
      "  [  0.   0.]]]\n"
     ]
    }
   ],
   "source": [
    "# Obecná transpozice jak permutace axis.\n",
    "\n",
    "# Třírozměrný tenzor, osy si označíme pomocí prvků 1,2,3 \n",
    "xyz  = np.zeros( (2,2,2) )\n",
    "xyz[0,0,0] = 111\n",
    "xyz[1,0,0] = 1\n",
    "xyz[0,1,0] = 2\n",
    "xyz[0,0,1] = 3\n",
    "\n",
    "print(\"\\nxyz: \\n\", xyz)\n",
    "# Prohodíme první a druhou osu:\n",
    "print(\"\\ntranspose: \\n\", xyz.transpose((1,0,2)))"
   ]
  },
  {
   "cell_type": "markdown",
   "metadata": {},
   "source": [
    "### Array stacking\n",
    "Posazení dvou matic (polí) nad sebe, vedle sebe ... "
   ]
  },
  {
   "cell_type": "code",
   "execution_count": 45,
   "metadata": {},
   "outputs": [
    {
     "name": "stdout",
     "output_type": "stream",
     "text": [
      "[[0 1 2]\n",
      " [1 2 3]]\n",
      "[0 1 2]\n"
     ]
    }
   ],
   "source": [
    "a= list_matrix =np.array([ list(range(3)), list(range(1,4))])\n",
    "print(a)\n",
    "b = a[0]\n",
    "print(b)"
   ]
  },
  {
   "cell_type": "code",
   "execution_count": null,
   "metadata": {},
   "outputs": [],
   "source": []
  },
  {
   "cell_type": "code",
   "execution_count": 46,
   "metadata": {},
   "outputs": [
    {
     "data": {
      "text/plain": [
       "array([[0, 1, 0],\n",
       "       [1, 2, 1],\n",
       "       [2, 3, 2]])"
      ]
     },
     "execution_count": 46,
     "metadata": {},
     "output_type": "execute_result"
    }
   ],
   "source": [
    "# Více polí stejného shape na pole vyšší dimenze. \n",
    "# Např. z vektorů udělat matici (vektory jako sloupce)\n",
    "np.stack((a[0], a[1], b), axis=1)"
   ]
  },
  {
   "cell_type": "code",
   "execution_count": 48,
   "metadata": {},
   "outputs": [
    {
     "data": {
      "text/plain": [
       "array([[0, 1, 2],\n",
       "       [1, 2, 3],\n",
       "       [0, 1, 2]])"
      ]
     },
     "execution_count": 48,
     "metadata": {},
     "output_type": "execute_result"
    }
   ],
   "source": [
    "# To samé v řádcích\n",
    "np.stack((a[0], a[1], b))"
   ]
  },
  {
   "cell_type": "code",
   "execution_count": 51,
   "metadata": {},
   "outputs": [
    {
     "data": {
      "text/plain": [
       "array([[0, 1, 2],\n",
       "       [1, 2, 3],\n",
       "       [0, 1, 2]])"
      ]
     },
     "execution_count": 51,
     "metadata": {},
     "output_type": "execute_result"
    }
   ],
   "source": [
    "# Více polí různý shape, zachování dimenze. Stejný shape kolmo na axise slučování.\n",
    "np.concatenate((a, b[None,:]), axis=0) # V axis 1 stejný shape. "
   ]
  },
  {
   "cell_type": "markdown",
   "metadata": {},
   "source": [
    "## Basic operations\n",
    "Get help and try functions:\n",
    "- min(), max(), maximum(), minimum()\n",
    "- average(), mean()\n",
    "- diff()\n",
    "- dot()\n",
    "- sum(), prod(), cumsum(), cumprod()"
   ]
  },
  {
   "cell_type": "markdown",
   "metadata": {},
   "source": [
    "### Linear algebra"
   ]
  },
  {
   "cell_type": "code",
   "execution_count": 53,
   "metadata": {},
   "outputs": [],
   "source": [
    "from numpy import linalg as la"
   ]
  },
  {
   "cell_type": "markdown",
   "metadata": {},
   "source": [
    "\n",
    "## `la` - klíčové funkce\n",
    "\n",
    "- la.norm()\n",
    "- la.solve(), la.lu(), la.cholesky(), la.qr()\n",
    "- la.eig(), la.svd()\n",
    "\n",
    "np.fft module"
   ]
  },
  {
   "cell_type": "code",
   "execution_count": null,
   "metadata": {
    "scrolled": true
   },
   "outputs": [],
   "source": [
    "# TODO: vyzkousejte la.eig pro vypoctenou matici P.T @ D @ P."
   ]
  },
  {
   "cell_type": "markdown",
   "metadata": {},
   "source": [
    "# Cvičení\n",
    "\n",
    "## Elipsy\n",
    "Parametrická rovnice elipsy s poloosami $a$, $b$ je:\n",
    "        \n",
    "$$x = a\\cos\\phi,\\quad y = b\\sin\\phi$$\n",
    "\n",
    "1. Vypočtěte N bodů na elipse a sestavte je do matice s řádky X a Y.\n",
    "1. Body zobrazte pomocí `plt.scatter`.\n",
    "1. Sestavte matici rotace o 45 stupňů:\n",
    "\n",
    "  $$Rot(\\phi) = \\begin{bmatrix} \\cos\\phi & -\\sin\\phi\\\\ \\sin\\phi & \\cos\\phi\\end{bmatrix}$$ \n",
    "1. Otočte body na elipse pomocí této matice, zobrazte obě matice do stejného grafu.\n",
    "1. Zobrazte $k$ takovýchto elips s úhlem otočení $\\phi=2\\pi i/n$, $k=17$, $N=31$, $a=3$, $b=1$.\n",
    "  Experimentujte s různými hodnotami.\n",
    "\n"
   ]
  },
  {
   "cell_type": "code",
   "execution_count": null,
   "metadata": {},
   "outputs": [],
   "source": [
    "\n"
   ]
  },
  {
   "cell_type": "markdown",
   "metadata": {},
   "source": [
    "## Random\n",
    "1. Nastudujte a vyzkoušejte si základní funkce z modulu np.random:\n",
    "   \n",
    "   random, rand, seed, choice\n",
    "   \n",
    "2. Vygenerujte:\n",
    "   \n",
    "   - náhodnou matici A, shape (3, 3)\n",
    "   - náhodný vektor b, shape (3, )\n",
    "   \n",
    "3. vyřešte soustavu $Ax=b$ a ověřte řešení pomocí výpočtu $Ax - b$\n",
    "\n",
    "4. Vygenerujte pole dvojic náhodných bodů (úseček) v jednotkovém čtverci, jako matici (N, 2, 2)\n",
    "\n",
    "5. Vypočtěte pole délek úseček (jednořádkový  kód).\n",
    "\n",
    "6. Vytvořte pole X, Y, Z, kde X obsahuje x souřednice prvních bodů, Y je y souřadnice prvních bodů, z je logaritmus délek úseček.\n",
    "\n",
    "7. Vypočtěte průmernou délku úseček a směrodatnou odchylku.\n",
    "\n",
    "8. Náročnější úkol, působení hmotných bodů: \n",
    "    \n",
    "   1. Vygenerujte náhodné pole bodů v jednotkové krychli a pole náhodných hmotností těchto bodů (libovolně).\n",
    "   2. Napište funkci, která pro zadaný index $i$. Vypočte sílu kterou na hmotný bod $X_i$ působí ostatní hmotné body:\n",
    "      \n",
    "      $$ F_i = \\sum_{j\\ne i} G \\frac{m_i m_j}{|R_{ij}|^3} R_{ij},\\quad R_{ij}  =  X_i - X_j$$"
   ]
  },
  {
   "cell_type": "code",
   "execution_count": null,
   "metadata": {},
   "outputs": [],
   "source": [
    "L=la.norm( mat[:,1,:] - mat[:,0,:], axis=1)\n",
    "X = mat[:, 0, 0]\n",
    "Z = np.log(L)"
   ]
  }
 ],
 "metadata": {
  "kernelspec": {
   "display_name": "Python 3",
   "language": "python",
   "name": "python3"
  },
  "language_info": {
   "codemirror_mode": {
    "name": "ipython",
    "version": 3
   },
   "file_extension": ".py",
   "mimetype": "text/x-python",
   "name": "python",
   "nbconvert_exporter": "python",
   "pygments_lexer": "ipython3",
   "version": "3.6.9"
  }
 },
 "nbformat": 4,
 "nbformat_minor": 2
}
